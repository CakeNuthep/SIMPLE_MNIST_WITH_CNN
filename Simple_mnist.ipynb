{
  "nbformat": 4,
  "nbformat_minor": 0,
  "metadata": {
    "accelerator": "GPU",
    "colab": {
      "name": "Simple mnist",
      "provenance": [],
      "collapsed_sections": [],
      "toc_visible": true,
      "include_colab_link": true
    },
    "kernelspec": {
      "display_name": "Python 3",
      "language": "python",
      "name": "python3"
    },
    "language_info": {
      "codemirror_mode": {
        "name": "ipython",
        "version": 3
      },
      "file_extension": ".py",
      "mimetype": "text/x-python",
      "name": "python",
      "nbconvert_exporter": "python",
      "pygments_lexer": "ipython3",
      "version": "3.7.0"
    }
  },
  "cells": [
    {
      "cell_type": "markdown",
      "metadata": {
        "id": "view-in-github",
        "colab_type": "text"
      },
      "source": [
        "<a href=\"https://colab.research.google.com/github/CakeNuthep/SIMPLE_MNIST_WITH_CNN/blob/main/Simple_mnist.ipynb\" target=\"_parent\"><img src=\"https://colab.research.google.com/assets/colab-badge.svg\" alt=\"Open In Colab\"/></a>"
      ]
    },
    {
      "cell_type": "markdown",
      "metadata": {
        "id": "xbz4_0I9QPy5"
      },
      "source": [
        "# Simple MNIST\n",
        "\n",
        "\n",
        "**Resource:** [Keras example](https://keras.io/examples/vision/mnist_convnet/),[MNIST In Keras](https://colab.research.google.com/github/AviatorMoser/keras-mnist-tutorial/blob/master/MNIST%20in%20Keras.ipynb#scrollTo=xwiCQA08KQpe)<br>"
      ]
    },
    {
      "cell_type": "markdown",
      "metadata": {
        "id": "OPkF_n80QPy9"
      },
      "source": [
        "## Setup"
      ]
    },
    {
      "cell_type": "code",
      "metadata": {
        "id": "zUky-YC1QPy9"
      },
      "source": [
        "import numpy as np\n",
        "from tensorflow import keras\n",
        "from tensorflow.keras import layers"
      ],
      "execution_count": 17,
      "outputs": []
    },
    {
      "cell_type": "markdown",
      "metadata": {
        "id": "WhnRTxSlQPy-"
      },
      "source": [
        "## Prepare the data"
      ]
    },
    {
      "cell_type": "code",
      "metadata": {
        "colab": {
          "base_uri": "https://localhost:8080/"
        },
        "id": "JaQtwCm0QPy-",
        "outputId": "0fd12ffb-cb14-40e4-cf41-c05395b1f307"
      },
      "source": [
        "# Model / data parameters\n",
        "num_classes = 10\n",
        "input_shape = (28, 28, 1)\n",
        "\n",
        "# the data, split between train and test sets\n",
        "(x_train, y_train), (x_test, y_test) = keras.datasets.mnist.load_data()\n",
        "\n",
        "# Scale images to the [0, 1] range\n",
        "x_train = x_train.astype(\"float32\") / 255\n",
        "x_test = x_test.astype(\"float32\") / 255\n",
        "# Make sure images have shape (28, 28, 1)\n",
        "X_train = np.expand_dims(x_train, -1)\n",
        "X_test = np.expand_dims(x_test, -1)\n",
        "print(\"x_train shape:\", X_train.shape)\n",
        "print(X_train.shape[0], \"train samples\")\n",
        "print(X_test.shape[0], \"test samples\")\n",
        "\n",
        "\n",
        "# convert class vectors to binary class matrices\n",
        "Y_train = keras.utils.to_categorical(y_train, num_classes)\n",
        "Y_test = keras.utils.to_categorical(y_test, num_classes)"
      ],
      "execution_count": 18,
      "outputs": [
        {
          "output_type": "stream",
          "text": [
            "x_train shape: (60000, 28, 28, 1)\n",
            "60000 train samples\n",
            "10000 test samples\n"
          ],
          "name": "stdout"
        }
      ]
    },
    {
      "cell_type": "code",
      "metadata": {
        "colab": {
          "base_uri": "https://localhost:8080/",
          "height": 645
        },
        "id": "nHVGQjczS8OP",
        "outputId": "b0888bb5-4a0b-43c2-8c55-c9969f85f6bd"
      },
      "source": [
        "import matplotlib.pyplot as plt      # MATLAB like plotting routines\r\n",
        "import random                        # for generating random numbers\r\n",
        "plt.rcParams['figure.figsize'] = (9,9) # Make the figures a bit bigger\r\n",
        "\r\n",
        "for i in range(9):\r\n",
        "    plt.subplot(3,3,i+1)\r\n",
        "    num = random.randint(0, len(x_train))\r\n",
        "    plt.imshow(x_train[num], cmap='gray', interpolation='none')\r\n",
        "    plt.title(\"Class {}\".format(Y_train[num]))\r\n",
        "    \r\n",
        "plt.tight_layout()"
      ],
      "execution_count": 21,
      "outputs": [
        {
          "output_type": "display_data",
          "data": {
            "image/png": "[encoded data removed]",
            "text/plain": [
              "<Figure size 648x648 with 9 Axes>"
            ]
          },
          "metadata": {
            "tags": [],
            "needs_background": "light"
          }
        }
      ]
    },
    {
      "cell_type": "code",
      "metadata": {
        "colab": {
          "base_uri": "https://localhost:8080/"
        },
        "id": "0dYC3lz1ZBAw",
        "outputId": "579ce210-34c1-4b74-9692-3aa6b99d0bca"
      },
      "source": [
        "# just a little function for pretty printing a matrix\r\n",
        "def matprint(mat, fmt=\"g\"):\r\n",
        "    col_maxes = [4 for col in mat.T]\r\n",
        "    for x in mat:\r\n",
        "        for i, y in enumerate(x):\r\n",
        "            if y != 0:\r\n",
        "              print((\"{:.2f}\").format(y), end=\"  \")\r\n",
        "            else:\r\n",
        "              print((\"{:4g}\").format(y),end=\"  \")\r\n",
        "        print(\"\")\r\n",
        "\r\n",
        "# now print!        \r\n",
        "matprint(x_train[num] )"
      ],
      "execution_count": 44,
      "outputs": [
        {
          "output_type": "stream",
          "text": [
            "   0     0     0     0     0     0     0     0     0     0     0     0     0     0     0     0     0     0     0     0     0     0     0     0     0     0     0     0  \n",
            "   0     0     0     0     0     0     0     0     0     0     0     0     0     0     0     0     0     0     0     0     0     0     0     0     0     0     0     0  \n",
            "   0     0     0     0     0     0     0     0     0     0     0     0     0     0     0     0     0     0     0     0     0     0     0     0     0     0     0     0  \n",
            "   0     0     0     0     0     0     0     0     0     0     0     0     0     0     0     0     0     0     0     0     0     0     0     0     0     0     0     0  \n",
            "   0     0     0     0     0     0     0     0     0     0     0     0     0     0     0     0     0     0     0     0     0     0     0     0     0     0     0     0  \n",
            "   0     0     0     0     0     0     0  0.44  0.59  0.29     0  0.23  0.30  0.30  0.30  0.02     0     0     0     0     0     0     0     0     0     0     0     0  \n",
            "   0     0     0     0     0     0  0.01  0.77  1.00  0.99  0.87  0.97  1.00  1.00  1.00  0.43     0     0     0     0     0     0     0     0     0     0     0     0  \n",
            "   0     0     0     0     0     0     0  0.24  0.77  1.00  1.00  0.94  0.80  0.58  0.40  0.03     0     0     0     0     0     0     0     0     0     0     0     0  \n",
            "   0     0     0     0     0     0     0     0  0.08  0.78  1.00  0.91  0.06  0.14  0.25  0.68  0.32  0.20     0     0     0     0     0     0     0     0     0     0  \n",
            "   0     0     0     0     0     0     0     0     0  0.09  0.98  1.00  0.90  0.94  0.98  0.98  1.00  0.96  0.85  0.36  0.04  0.00     0     0     0     0     0     0  \n",
            "   0     0     0     0     0     0     0     0     0     0  0.54  1.00  1.00  0.96  0.47  0.22  0.38  0.38  0.79  0.94  1.00  0.57  0.06     0     0     0     0     0  \n",
            "   0     0     0     0     0     0     0     0     0     0  0.13  0.92  0.80  0.18     0     0     0     0     0  0.27  0.80  1.00  0.84  0.11     0     0     0     0  \n",
            "   0     0     0     0     0     0     0     0     0     0     0  0.21  0.08     0     0     0     0     0     0     0  0.04  0.75  1.00  0.75     0     0     0     0  \n",
            "   0     0     0     0     0     0     0     0     0     0     0     0     0     0     0     0     0     0     0     0     0  0.13  1.00  1.00     0     0     0     0  \n",
            "   0     0     0     0  0.05  0.10     0     0     0     0     0     0     0     0     0     0     0     0     0     0     0  0.13  1.00  1.00     0     0     0     0  \n",
            "   0     0     0     0  0.95  0.83  0.10     0     0     0     0     0     0     0     0     0     0     0     0     0     0  0.13  1.00  1.00     0     0     0     0  \n",
            "   0     0     0     0  0.90  1.00  0.55     0     0     0     0     0     0     0     0     0     0     0     0     0     0  0.23  1.00  1.00     0     0     0     0  \n",
            "   0     0     0     0  0.17  0.89  0.55     0     0     0     0     0     0     0     0     0     0     0     0     0     0  0.72  1.00  0.49     0     0     0     0  \n",
            "   0     0     0     0     0  0.73  0.98  0.63  0.03     0     0     0     0     0     0     0     0     0     0     0  0.44  1.00  0.97  0.13     0     0     0     0  \n",
            "   0     0     0     0     0  0.36  0.96  1.00  0.76  0.07     0     0     0     0     0     0     0     0     0  0.47  0.95  0.96  0.36     0     0     0     0     0  \n",
            "   0     0     0     0     0     0  0.34  0.84  1.00  0.83  0.33     0     0     0     0     0  0.27  0.41  0.82  0.95  1.00  0.70     0     0     0     0     0     0  \n",
            "   0     0     0     0     0     0     0  0.09  0.76  0.98  1.00  0.98  0.98  0.98  0.98  0.98  0.99  1.00  1.00  0.91  0.35  0.01     0     0     0     0     0     0  \n",
            "   0     0     0     0     0     0     0     0     0  0.27  0.30  0.30  0.30  0.30  0.30  0.30  0.30  0.30  0.30  0.09     0     0     0     0     0     0     0     0  \n",
            "   0     0     0     0     0     0     0     0     0     0     0     0     0     0     0     0     0     0     0     0     0     0     0     0     0     0     0     0  \n",
            "   0     0     0     0     0     0     0     0     0     0     0     0     0     0     0     0     0     0     0     0     0     0     0     0     0     0     0     0  \n",
            "   0     0     0     0     0     0     0     0     0     0     0     0     0     0     0     0     0     0     0     0     0     0     0     0     0     0     0     0  \n",
            "   0     0     0     0     0     0     0     0     0     0     0     0     0     0     0     0     0     0     0     0     0     0     0     0     0     0     0     0  \n",
            "   0     0     0     0     0     0     0     0     0     0     0     0     0     0     0     0     0     0     0     0     0     0     0     0     0     0     0     0  \n"
          ],
          "name": "stdout"
        }
      ]
    },
    {
      "cell_type": "markdown",
      "metadata": {
        "id": "_GMzMB6xQPy_"
      },
      "source": [
        "## Build the model"
      ]
    },
    {
      "cell_type": "code",
      "metadata": {
        "colab": {
          "base_uri": "https://localhost:8080/"
        },
        "id": "Nqm_7plFQPy_",
        "outputId": "6cc32a65-6036-4fe2-da6f-4d0939949936"
      },
      "source": [
        "model = keras.Sequential(\n",
        "    [\n",
        "        keras.Input(shape=input_shape),\n",
        "        layers.Conv2D(32, kernel_size=(3, 3), activation=\"relu\"),\n",
        "        layers.MaxPooling2D(pool_size=(2, 2)),\n",
        "        layers.Conv2D(64, kernel_size=(3, 3), activation=\"relu\"),\n",
        "        layers.MaxPooling2D(pool_size=(2, 2)),\n",
        "        layers.Flatten(),\n",
        "        layers.Dropout(0.5),\n",
        "        layers.Dense(num_classes, activation=\"softmax\"),\n",
        "    ]\n",
        ")\n",
        "\n",
        "model.summary()"
      ],
      "execution_count": 22,
      "outputs": [
        {
          "output_type": "stream",
          "text": [
            "Model: \"sequential_1\"\n",
            "_________________________________________________________________\n",
            "Layer (type)                 Output Shape              Param #   \n",
            "=================================================================\n",
            "conv2d_2 (Conv2D)            (None, 26, 26, 32)        320       \n",
            "_________________________________________________________________\n",
            "max_pooling2d_2 (MaxPooling2 (None, 13, 13, 32)        0         \n",
            "_________________________________________________________________\n",
            "conv2d_3 (Conv2D)            (None, 11, 11, 64)        18496     \n",
            "_________________________________________________________________\n",
            "max_pooling2d_3 (MaxPooling2 (None, 5, 5, 64)          0         \n",
            "_________________________________________________________________\n",
            "flatten_1 (Flatten)          (None, 1600)              0         \n",
            "_________________________________________________________________\n",
            "dropout_1 (Dropout)          (None, 1600)              0         \n",
            "_________________________________________________________________\n",
            "dense_1 (Dense)              (None, 10)                16010     \n",
            "=================================================================\n",
            "Total params: 34,826\n",
            "Trainable params: 34,826\n",
            "Non-trainable params: 0\n",
            "_________________________________________________________________\n"
          ],
          "name": "stdout"
        }
      ]
    },
    {
      "cell_type": "markdown",
      "metadata": {
        "id": "aJTX20MGQPy_"
      },
      "source": [
        "## Train the model"
      ]
    },
    {
      "cell_type": "code",
      "metadata": {
        "colab": {
          "base_uri": "https://localhost:8080/"
        },
        "id": "QxYb9sBGQPy_",
        "outputId": "37b734ef-76da-426c-cea5-468aae42f556"
      },
      "source": [
        "batch_size = 128\n",
        "epochs = 15\n",
        "\n",
        "model.compile(loss=\"categorical_crossentropy\", optimizer=\"adam\", metrics=[\"accuracy\"])\n",
        "\n",
        "model.fit(X_train, Y_train, batch_size=batch_size, epochs=epochs, validation_split=0.1)"
      ],
      "execution_count": 23,
      "outputs": [
        {
          "output_type": "stream",
          "text": [
            "Epoch 1/15\n",
            "422/422 [==============================] - 2s 4ms/step - loss: 0.7515 - accuracy: 0.7627 - val_loss: 0.0821 - val_accuracy: 0.9787\n",
            "Epoch 2/15\n",
            "422/422 [==============================] - 1s 3ms/step - loss: 0.1205 - accuracy: 0.9625 - val_loss: 0.0564 - val_accuracy: 0.9850\n",
            "Epoch 3/15\n",
            "422/422 [==============================] - 2s 4ms/step - loss: 0.0839 - accuracy: 0.9741 - val_loss: 0.0474 - val_accuracy: 0.9877\n",
            "Epoch 4/15\n",
            "422/422 [==============================] - 2s 4ms/step - loss: 0.0685 - accuracy: 0.9781 - val_loss: 0.0478 - val_accuracy: 0.9868\n",
            "Epoch 5/15\n",
            "422/422 [==============================] - 2s 4ms/step - loss: 0.0613 - accuracy: 0.9807 - val_loss: 0.0379 - val_accuracy: 0.9893\n",
            "Epoch 6/15\n",
            "422/422 [==============================] - 2s 4ms/step - loss: 0.0600 - accuracy: 0.9807 - val_loss: 0.0380 - val_accuracy: 0.9877\n",
            "Epoch 7/15\n",
            "422/422 [==============================] - 2s 4ms/step - loss: 0.0520 - accuracy: 0.9841 - val_loss: 0.0329 - val_accuracy: 0.9905\n",
            "Epoch 8/15\n",
            "422/422 [==============================] - 2s 4ms/step - loss: 0.0475 - accuracy: 0.9851 - val_loss: 0.0331 - val_accuracy: 0.9913\n",
            "Epoch 9/15\n",
            "422/422 [==============================] - 2s 4ms/step - loss: 0.0441 - accuracy: 0.9858 - val_loss: 0.0308 - val_accuracy: 0.9920\n",
            "Epoch 10/15\n",
            "422/422 [==============================] - 1s 4ms/step - loss: 0.0401 - accuracy: 0.9880 - val_loss: 0.0331 - val_accuracy: 0.9908\n",
            "Epoch 11/15\n",
            "422/422 [==============================] - 1s 4ms/step - loss: 0.0406 - accuracy: 0.9873 - val_loss: 0.0293 - val_accuracy: 0.9910\n",
            "Epoch 12/15\n",
            "422/422 [==============================] - 1s 4ms/step - loss: 0.0342 - accuracy: 0.9887 - val_loss: 0.0296 - val_accuracy: 0.9915\n",
            "Epoch 13/15\n",
            "422/422 [==============================] - 1s 3ms/step - loss: 0.0379 - accuracy: 0.9880 - val_loss: 0.0278 - val_accuracy: 0.9920\n",
            "Epoch 14/15\n",
            "422/422 [==============================] - 1s 3ms/step - loss: 0.0338 - accuracy: 0.9890 - val_loss: 0.0278 - val_accuracy: 0.9928\n",
            "Epoch 15/15\n",
            "422/422 [==============================] - 2s 4ms/step - loss: 0.0315 - accuracy: 0.9901 - val_loss: 0.0283 - val_accuracy: 0.9925\n"
          ],
          "name": "stdout"
        },
        {
          "output_type": "execute_result",
          "data": {
            "text/plain": [
              "<tensorflow.python.keras.callbacks.History at 0x7ff7ca2de290>"
            ]
          },
          "metadata": {
            "tags": []
          },
          "execution_count": 23
        }
      ]
    },
    {
      "cell_type": "markdown",
      "metadata": {
        "id": "yGPry1mNQPy_"
      },
      "source": [
        "## Evaluate the trained model"
      ]
    },
    {
      "cell_type": "code",
      "metadata": {
        "colab": {
          "base_uri": "https://localhost:8080/"
        },
        "id": "5kQtBZw4QPzA",
        "outputId": "bcb58c1f-031e-4540-b7b5-59c6d19ef529"
      },
      "source": [
        "score = model.evaluate(X_test, Y_test, verbose=0)\n",
        "print(\"Test loss:\", score[0])\n",
        "print(\"Test accuracy:\", score[1])"
      ],
      "execution_count": 25,
      "outputs": [
        {
          "output_type": "stream",
          "text": [
            "Test loss: 0.02348657138645649\n",
            "Test accuracy: 0.9922000169754028\n"
          ],
          "name": "stdout"
        }
      ]
    },
    {
      "cell_type": "code",
      "metadata": {
        "colab": {
          "base_uri": "https://localhost:8080/"
        },
        "id": "W2n7Hrz-V6Bk",
        "outputId": "dea364f7-ede8-4e4c-8c72-131ba2b0b176"
      },
      "source": [
        "predicted_classes = model.predict_classes(X_test)"
      ],
      "execution_count": 26,
      "outputs": [
        {
          "output_type": "stream",
          "text": [
            "/usr/local/lib/python3.7/dist-packages/tensorflow/python/keras/engine/sequential.py:450: UserWarning: `model.predict_classes()` is deprecated and will be removed after 2021-01-01. Please use instead:* `np.argmax(model.predict(x), axis=-1)`,   if your model does multi-class classification   (e.g. if it uses a `softmax` last-layer activation).* `(model.predict(x) > 0.5).astype(\"int32\")`,   if your model does binary classification   (e.g. if it uses a `sigmoid` last-layer activation).\n",
            "  warnings.warn('`model.predict_classes()` is deprecated and '\n"
          ],
          "name": "stderr"
        }
      ]
    },
    {
      "cell_type": "code",
      "metadata": {
        "colab": {
          "base_uri": "https://localhost:8080/"
        },
        "id": "-JONhFPkV8kg",
        "outputId": "5f135404-3c3f-4b74-8e96-b19c7a3c4023"
      },
      "source": [
        "predicted_classes"
      ],
      "execution_count": 27,
      "outputs": [
        {
          "output_type": "execute_result",
          "data": {
            "text/plain": [
              "array([7, 2, 1, ..., 4, 5, 6])"
            ]
          },
          "metadata": {
            "tags": []
          },
          "execution_count": 27
        }
      ]
    },
    {
      "cell_type": "code",
      "metadata": {
        "colab": {
          "base_uri": "https://localhost:8080/",
          "height": 657
        },
        "id": "mz66oLZAV-LZ",
        "outputId": "23de419f-585a-45cf-9693-9f89a4058c62"
      },
      "source": [
        "plt.figure()\r\n",
        "for i, predict in enumerate(predicted_classes[:9]):\r\n",
        "    plt.subplot(3,3,i+1)\r\n",
        "    plt.imshow(x_test[i].reshape(28,28), cmap='gray', interpolation='none')\r\n",
        "    plt.title(\"Predicted {}, Class {}\".format(predict, y_test[i]))\r\n",
        "    \r\n",
        "plt.tight_layout()"
      ],
      "execution_count": 29,
      "outputs": [
        {
          "output_type": "display_data",
          "data": {
            "image/png": "[encoded data removed]",
            "text/plain": [
              "<Figure size 648x648 with 9 Axes>"
            ]
          },
          "metadata": {
            "tags": [],
            "needs_background": "light"
          }
        }
      ]
    }
  ]
}