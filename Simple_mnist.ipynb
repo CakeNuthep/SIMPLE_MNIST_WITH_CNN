{
  "nbformat": 4,
  "nbformat_minor": 0,
  "metadata": {
    "accelerator": "GPU",
    "colab": {
      "name": "Simple mnist",
      "provenance": [],
      "collapsed_sections": [],
      "toc_visible": true,
      "include_colab_link": true
    },
    "kernelspec": {
      "display_name": "Python 3",
      "language": "python",
      "name": "python3"
    },
    "language_info": {
      "codemirror_mode": {
        "name": "ipython",
        "version": 3
      },
      "file_extension": ".py",
      "mimetype": "text/x-python",
      "name": "python",
      "nbconvert_exporter": "python",
      "pygments_lexer": "ipython3",
      "version": "3.7.0"
    }
  },
  "cells": [
    {
      "cell_type": "markdown",
      "metadata": {
        "id": "view-in-github",
        "colab_type": "text"
      },
      "source": [
        "<a href=\"https://colab.research.google.com/github/CakeNuthep/SIMPLE_MNIST_WITH_CNN/blob/main/Simple_mnist.ipynb\" target=\"_parent\"><img src=\"https://colab.research.google.com/assets/colab-badge.svg\" alt=\"Open In Colab\"/></a>"
      ]
    },
    {
      "cell_type": "markdown",
      "metadata": {
        "id": "xbz4_0I9QPy5"
      },
      "source": [
        "# Simple MNIST\n",
        "\n",
        "\n",
        "**Resource:** [Keras example](https://keras.io/examples/vision/mnist_convnet/),[MNIST In Keras](https://colab.research.google.com/github/AviatorMoser/keras-mnist-tutorial/blob/master/MNIST%20in%20Keras.ipynb#scrollTo=xwiCQA08KQpe),[CNN Explainer](https://poloclub.github.io/cnn-explainer/?fbclid=IwAR1KVQ7wQ0_p73MrmL7bsCImfBGGHTLkQkiohfHC60fnRx0tEhZ6DphCY0s)<br>"
      ]
    },
    {
      "cell_type": "markdown",
      "metadata": {
        "id": "OPkF_n80QPy9"
      },
      "source": [
        "## Setup"
      ]
    },
    {
      "cell_type": "code",
      "metadata": {
        "id": "zUky-YC1QPy9"
      },
      "source": [
        "import numpy as np\n",
        "from tensorflow import keras\n",
        "from tensorflow.keras import layers"
      ],
      "execution_count": 1,
      "outputs": []
    },
    {
      "cell_type": "markdown",
      "metadata": {
        "id": "WhnRTxSlQPy-"
      },
      "source": [
        "## Prepare the data"
      ]
    },
    {
      "cell_type": "code",
      "metadata": {
        "colab": {
          "base_uri": "https://localhost:8080/"
        },
        "id": "JaQtwCm0QPy-",
        "outputId": "aadb1ad1-64af-43c7-e54a-abd59d466e33"
      },
      "source": [
        "# Model / data parameters\n",
        "num_classes = 10\n",
        "input_shape = (28, 28, 1)\n",
        "\n",
        "# the data, split between train and test sets\n",
        "(x_train, y_train), (x_test, y_test) = keras.datasets.mnist.load_data()\n",
        "\n",
        "# Scale images to the [0, 1] range\n",
        "x_train = x_train.astype(\"float32\") / 255\n",
        "x_test = x_test.astype(\"float32\") / 255\n",
        "# Make sure images have shape (28, 28, 1)\n",
        "X_train = np.expand_dims(x_train, -1)\n",
        "X_test = np.expand_dims(x_test, -1)\n",
        "print(\"x_train shape:\", X_train.shape)\n",
        "print(X_train.shape[0], \"train samples\")\n",
        "print(X_test.shape[0], \"test samples\")\n",
        "\n",
        "\n",
        "# convert class vectors to binary class matrices\n",
        "Y_train = keras.utils.to_categorical(y_train, num_classes)\n",
        "Y_test = keras.utils.to_categorical(y_test, num_classes)"
      ],
      "execution_count": 2,
      "outputs": [
        {
          "output_type": "stream",
          "text": [
            "Downloading data from https://storage.googleapis.com/tensorflow/tf-keras-datasets/mnist.npz\n",
            "11493376/11490434 [==============================] - 0s 0us/step\n",
            "x_train shape: (60000, 28, 28, 1)\n",
            "60000 train samples\n",
            "10000 test samples\n"
          ],
          "name": "stdout"
        }
      ]
    },
    {
      "cell_type": "code",
      "metadata": {
        "colab": {
          "base_uri": "https://localhost:8080/",
          "height": 645
        },
        "id": "nHVGQjczS8OP",
        "outputId": "e5601089-5c1d-4547-afb8-a873e88f5f36"
      },
      "source": [
        "import matplotlib.pyplot as plt      # MATLAB like plotting routines\r\n",
        "import random                        # for generating random numbers\r\n",
        "plt.rcParams['figure.figsize'] = (9,9) # Make the figures a bit bigger\r\n",
        "\r\n",
        "for i in range(9):\r\n",
        "    plt.subplot(3,3,i+1)\r\n",
        "    num = random.randint(0, len(x_train))\r\n",
        "    plt.imshow(x_train[num], cmap='gray', interpolation='none')\r\n",
        "    plt.title(\"Class {}\".format(Y_train[num]))\r\n",
        "    \r\n",
        "plt.tight_layout()"
      ],
      "execution_count": 3,
      "outputs": [
        {
          "output_type": "display_data",
          "data": {
            "image/png": "[encoded data removed]",
            "text/plain": [
              "<Figure size 648x648 with 9 Axes>"
            ]
          },
          "metadata": {
            "tags": [],
            "needs_background": "light"
          }
        }
      ]
    },
    {
      "cell_type": "code",
      "metadata": {
        "colab": {
          "base_uri": "https://localhost:8080/"
        },
        "id": "0dYC3lz1ZBAw",
        "outputId": "5f17eff4-2eb3-4bcb-acf6-19816c163ff7"
      },
      "source": [
        "# just a little function for pretty printing a matrix\r\n",
        "def matprint(mat, fmt=\"g\"):\r\n",
        "    col_maxes = [4 for col in mat.T]\r\n",
        "    for x in mat:\r\n",
        "        for i, y in enumerate(x):\r\n",
        "            if y != 0:\r\n",
        "              print((\"{:.2f}\").format(y), end=\"  \")\r\n",
        "            else:\r\n",
        "              print((\"{:4g}\").format(y),end=\"  \")\r\n",
        "        print(\"\")\r\n",
        "\r\n",
        "# now print!        \r\n",
        "matprint(x_train[num] )"
      ],
      "execution_count": 4,
      "outputs": [
        {
          "output_type": "stream",
          "text": [
            "   0     0     0     0     0     0     0     0     0     0     0     0     0     0     0     0     0     0     0     0     0     0     0     0     0     0     0     0  \n",
            "   0     0     0     0     0     0     0     0     0     0     0     0     0     0     0     0     0     0     0     0     0     0     0     0     0     0     0     0  \n",
            "   0     0     0     0     0     0     0     0     0     0     0     0     0     0     0     0     0     0     0     0     0     0     0     0     0     0     0     0  \n",
            "   0     0     0     0     0     0     0     0     0     0     0     0     0     0     0     0     0     0     0     0     0     0     0     0     0     0     0     0  \n",
            "   0     0     0     0     0     0     0     0     0     0     0     0     0     0     0     0     0     0     0     0     0     0     0     0     0     0     0     0  \n",
            "   0     0     0     0     0     0     0     0     0     0     0     0     0     0     0     0     0     0     0     0     0     0     0     0     0     0     0     0  \n",
            "   0     0     0     0     0  0.24  0.55  0.51  0.11  0.11  0.11  0.11  0.11  0.11  0.11  0.11  0.11  0.11  0.11  0.11  0.11  0.11  0.06     0     0     0     0     0  \n",
            "   0     0     0     0     0  0.58  0.99  0.99  0.99  0.99  0.99  0.99  0.99  0.99  0.99  0.99  0.99  0.99  0.99  0.99  0.99  0.99  0.84     0     0     0     0     0  \n",
            "   0     0     0     0     0  0.43  0.99  0.99  0.99  0.99  0.99  0.99  0.99  0.99  0.99  0.99  0.99  0.99  0.99  0.99  0.99  0.99  0.64     0     0     0     0     0  \n",
            "   0     0     0     0     0  0.04  0.11  0.11  0.11  0.11  0.11  0.11  0.11  0.11  0.11  0.11  0.11  0.40  0.99  0.99  0.99  0.50  0.06     0     0     0     0     0  \n",
            "   0     0     0     0     0     0     0     0     0     0     0     0     0     0     0  0.02  0.50  0.99  0.99  0.94  0.29     0     0     0     0     0     0     0  \n",
            "   0     0     0     0     0     0     0     0     0     0     0     0     0     0  0.10  0.70  0.99  0.99  0.99  0.35     0     0     0     0     0     0     0     0  \n",
            "   0     0     0     0     0     0     0     0     0     0     0     0  0.22  0.48  0.87  0.99  0.99  0.99  0.99  0.97  0.77  0.32     0     0     0     0     0     0  \n",
            "   0     0     0     0     0     0     0     0     0     0     0  0.49  0.95  0.99  0.99  0.99  0.99  0.99  0.99  0.99  0.99  0.66     0     0     0     0     0     0  \n",
            "   0     0     0     0     0     0     0     0  0.03  0.60  0.99  1.00  0.99  0.96  0.69  0.40     0     0     0  0.16  0.99  0.66     0     0     0     0     0     0  \n",
            "   0     0     0     0     0     0     0     0  0.51  0.99  0.99  0.97  0.67  0.22     0     0     0     0     0  0.85  0.99  0.66     0     0     0     0     0     0  \n",
            "   0     0     0     0     0     0     0     0  0.25  0.66  0.66  0.20     0     0     0     0     0     0  0.35  0.99  0.99  0.51     0     0     0     0     0     0  \n",
            "   0     0     0     0     0     0     0     0     0     0     0     0     0     0     0     0     0  0.15  0.88  0.99  0.89  0.12     0     0     0     0     0     0  \n",
            "   0     0     0     0     0     0     0     0     0     0     0     0     0     0     0     0     0  0.38  0.99  0.98  0.29     0     0     0     0     0     0     0  \n",
            "   0     0     0  0.27  0.22     0     0     0     0     0     0     0     0     0     0     0  0.45  0.92  0.99  0.49     0     0     0     0     0     0     0     0  \n",
            "   0     0     0  0.99  0.33     0     0     0     0     0     0     0     0     0     0  0.24  0.92  0.99  0.84     0     0     0     0     0     0     0     0     0  \n",
            "   0     0     0  0.99  0.33     0     0     0     0     0     0     0     0  0.15  0.84  0.95  0.99  0.84  0.11     0     0     0     0     0     0     0     0     0  \n",
            "   0     0     0  1.00  0.89  0.17     0     0     0     0     0  0.55  0.85  0.99  0.99  0.98  0.59  0.10     0     0     0     0     0     0     0     0     0     0  \n",
            "   0     0     0  0.38  0.92  0.88  0.66  0.66  0.66  0.66  0.66  0.99  0.99  0.91  0.77  0.29     0     0     0     0     0     0     0     0     0     0     0     0  \n",
            "   0     0     0     0  0.44  0.92  0.99  0.99  0.99  0.73  0.66  0.66  0.56  0.15     0     0     0     0     0     0     0     0     0     0     0     0     0     0  \n",
            "   0     0     0     0     0  0.09  0.11  0.11  0.11  0.02     0     0     0     0     0     0     0     0     0     0     0     0     0     0     0     0     0     0  \n",
            "   0     0     0     0     0     0     0     0     0     0     0     0     0     0     0     0     0     0     0     0     0     0     0     0     0     0     0     0  \n",
            "   0     0     0     0     0     0     0     0     0     0     0     0     0     0     0     0     0     0     0     0     0     0     0     0     0     0     0     0  \n"
          ],
          "name": "stdout"
        }
      ]
    },
    {
      "cell_type": "markdown",
      "metadata": {
        "id": "_GMzMB6xQPy_"
      },
      "source": [
        "## Build the model"
      ]
    },
    {
      "cell_type": "code",
      "metadata": {
        "colab": {
          "base_uri": "https://localhost:8080/"
        },
        "id": "Nqm_7plFQPy_",
        "outputId": "6146a457-7543-45e0-fd79-b0269538a506"
      },
      "source": [
        "model = keras.Sequential(\n",
        "    [\n",
        "        keras.Input(shape=input_shape),\n",
        "        layers.Conv2D(10, kernel_size=(3, 3), activation=\"relu\"),\n",
        "        layers.Conv2D(10, kernel_size=(3, 3), activation=\"relu\"),\n",
        "        layers.MaxPooling2D(pool_size=(2, 2)),\n",
        "        layers.Conv2D(10, kernel_size=(3, 3), activation=\"relu\"),\n",
        "        layers.Conv2D(10, kernel_size=(3, 3), activation=\"relu\"),\n",
        "        layers.MaxPooling2D(pool_size=(2, 2)),\n",
        "        layers.Flatten(),\n",
        "        layers.Dense(num_classes, activation=\"softmax\"),\n",
        "    ]\n",
        ")\n",
        "\n",
        "model.summary()"
      ],
      "execution_count": 5,
      "outputs": [
        {
          "output_type": "stream",
          "text": [
            "Model: \"sequential\"\n",
            "_________________________________________________________________\n",
            "Layer (type)                 Output Shape              Param #   \n",
            "=================================================================\n",
            "conv2d (Conv2D)              (None, 26, 26, 10)        100       \n",
            "_________________________________________________________________\n",
            "conv2d_1 (Conv2D)            (None, 24, 24, 10)        910       \n",
            "_________________________________________________________________\n",
            "max_pooling2d (MaxPooling2D) (None, 12, 12, 10)        0         \n",
            "_________________________________________________________________\n",
            "conv2d_2 (Conv2D)            (None, 10, 10, 10)        910       \n",
            "_________________________________________________________________\n",
            "conv2d_3 (Conv2D)            (None, 8, 8, 10)          910       \n",
            "_________________________________________________________________\n",
            "max_pooling2d_1 (MaxPooling2 (None, 4, 4, 10)          0         \n",
            "_________________________________________________________________\n",
            "flatten (Flatten)            (None, 160)               0         \n",
            "_________________________________________________________________\n",
            "dense (Dense)                (None, 10)                1610      \n",
            "=================================================================\n",
            "Total params: 4,440\n",
            "Trainable params: 4,440\n",
            "Non-trainable params: 0\n",
            "_________________________________________________________________\n"
          ],
          "name": "stdout"
        }
      ]
    },
    {
      "cell_type": "markdown",
      "metadata": {
        "id": "aJTX20MGQPy_"
      },
      "source": [
        "## Train the model"
      ]
    },
    {
      "cell_type": "code",
      "metadata": {
        "colab": {
          "base_uri": "https://localhost:8080/"
        },
        "id": "QxYb9sBGQPy_",
        "outputId": "3b266770-28af-4310-f7ab-d3ae694fe096"
      },
      "source": [
        "batch_size = 128\n",
        "epochs = 15\n",
        "\n",
        "model.compile(loss=\"categorical_crossentropy\", optimizer=\"adam\", metrics=[\"accuracy\"])\n",
        "\n",
        "model.fit(X_train, Y_train, batch_size=batch_size, epochs=epochs, validation_split=0.1)"
      ],
      "execution_count": 6,
      "outputs": [
        {
          "output_type": "stream",
          "text": [
            "Epoch 1/15\n",
            "422/422 [==============================] - 18s 5ms/step - loss: 0.9834 - accuracy: 0.6819 - val_loss: 0.1436 - val_accuracy: 0.9563\n",
            "Epoch 2/15\n",
            "422/422 [==============================] - 2s 4ms/step - loss: 0.1609 - accuracy: 0.9516 - val_loss: 0.0886 - val_accuracy: 0.9753\n",
            "Epoch 3/15\n",
            "422/422 [==============================] - 2s 4ms/step - loss: 0.1101 - accuracy: 0.9665 - val_loss: 0.0780 - val_accuracy: 0.9782\n",
            "Epoch 4/15\n",
            "422/422 [==============================] - 2s 4ms/step - loss: 0.0893 - accuracy: 0.9727 - val_loss: 0.0705 - val_accuracy: 0.9798\n",
            "Epoch 5/15\n",
            "422/422 [==============================] - 2s 4ms/step - loss: 0.0784 - accuracy: 0.9766 - val_loss: 0.0642 - val_accuracy: 0.9810\n",
            "Epoch 6/15\n",
            "422/422 [==============================] - 2s 4ms/step - loss: 0.0723 - accuracy: 0.9777 - val_loss: 0.0597 - val_accuracy: 0.9818\n",
            "Epoch 7/15\n",
            "422/422 [==============================] - 2s 4ms/step - loss: 0.0610 - accuracy: 0.9805 - val_loss: 0.0592 - val_accuracy: 0.9807\n",
            "Epoch 8/15\n",
            "422/422 [==============================] - 2s 4ms/step - loss: 0.0576 - accuracy: 0.9825 - val_loss: 0.0555 - val_accuracy: 0.9848\n",
            "Epoch 9/15\n",
            "422/422 [==============================] - 2s 4ms/step - loss: 0.0544 - accuracy: 0.9823 - val_loss: 0.0482 - val_accuracy: 0.9850\n",
            "Epoch 10/15\n",
            "422/422 [==============================] - 2s 4ms/step - loss: 0.0490 - accuracy: 0.9841 - val_loss: 0.0536 - val_accuracy: 0.9827\n",
            "Epoch 11/15\n",
            "422/422 [==============================] - 2s 4ms/step - loss: 0.0472 - accuracy: 0.9853 - val_loss: 0.0502 - val_accuracy: 0.9865\n",
            "Epoch 12/15\n",
            "422/422 [==============================] - 2s 4ms/step - loss: 0.0448 - accuracy: 0.9855 - val_loss: 0.0424 - val_accuracy: 0.9865\n",
            "Epoch 13/15\n",
            "422/422 [==============================] - 2s 4ms/step - loss: 0.0404 - accuracy: 0.9867 - val_loss: 0.0479 - val_accuracy: 0.9863\n",
            "Epoch 14/15\n",
            "422/422 [==============================] - 2s 4ms/step - loss: 0.0426 - accuracy: 0.9863 - val_loss: 0.0534 - val_accuracy: 0.9842\n",
            "Epoch 15/15\n",
            "422/422 [==============================] - 2s 4ms/step - loss: 0.0378 - accuracy: 0.9877 - val_loss: 0.0466 - val_accuracy: 0.9852\n"
          ],
          "name": "stdout"
        },
        {
          "output_type": "execute_result",
          "data": {
            "text/plain": [
              "<tensorflow.python.keras.callbacks.History at 0x7f0e77191210>"
            ]
          },
          "metadata": {
            "tags": []
          },
          "execution_count": 6
        }
      ]
    },
    {
      "cell_type": "markdown",
      "metadata": {
        "id": "yGPry1mNQPy_"
      },
      "source": [
        "## Evaluate the trained model"
      ]
    },
    {
      "cell_type": "code",
      "metadata": {
        "colab": {
          "base_uri": "https://localhost:8080/"
        },
        "id": "5kQtBZw4QPzA",
        "outputId": "edcca076-f102-49be-b47d-d046b3dfe5b6"
      },
      "source": [
        "score = model.evaluate(X_test, Y_test, verbose=0)\n",
        "print(\"Test loss:\", score[0])\n",
        "print(\"Test accuracy:\", score[1])"
      ],
      "execution_count": 7,
      "outputs": [
        {
          "output_type": "stream",
          "text": [
            "Test loss: 0.045572683215141296\n",
            "Test accuracy: 0.9847000241279602\n"
          ],
          "name": "stdout"
        }
      ]
    },
    {
      "cell_type": "code",
      "metadata": {
        "colab": {
          "base_uri": "https://localhost:8080/"
        },
        "id": "W2n7Hrz-V6Bk",
        "outputId": "4d2acb50-bc82-4fe3-e8d2-b0e36ef90ec3"
      },
      "source": [
        "predicted_classes = model.predict_classes(X_test)"
      ],
      "execution_count": 8,
      "outputs": [
        {
          "output_type": "stream",
          "text": [
            "/usr/local/lib/python3.7/dist-packages/tensorflow/python/keras/engine/sequential.py:450: UserWarning: `model.predict_classes()` is deprecated and will be removed after 2021-01-01. Please use instead:* `np.argmax(model.predict(x), axis=-1)`,   if your model does multi-class classification   (e.g. if it uses a `softmax` last-layer activation).* `(model.predict(x) > 0.5).astype(\"int32\")`,   if your model does binary classification   (e.g. if it uses a `sigmoid` last-layer activation).\n",
            "  warnings.warn('`model.predict_classes()` is deprecated and '\n"
          ],
          "name": "stderr"
        }
      ]
    },
    {
      "cell_type": "code",
      "metadata": {
        "colab": {
          "base_uri": "https://localhost:8080/"
        },
        "id": "-JONhFPkV8kg",
        "outputId": "c983e670-58bf-4f38-873f-33880d4f890f"
      },
      "source": [
        "predicted_classes"
      ],
      "execution_count": 9,
      "outputs": [
        {
          "output_type": "execute_result",
          "data": {
            "text/plain": [
              "array([7, 2, 1, ..., 4, 5, 6])"
            ]
          },
          "metadata": {
            "tags": []
          },
          "execution_count": 9
        }
      ]
    },
    {
      "cell_type": "code",
      "metadata": {
        "colab": {
          "base_uri": "https://localhost:8080/",
          "height": 657
        },
        "id": "mz66oLZAV-LZ",
        "outputId": "047e95a2-950c-48f4-a686-c03f81a457e4"
      },
      "source": [
        "plt.figure()\r\n",
        "for i, predict in enumerate(predicted_classes[:9]):\r\n",
        "    plt.subplot(3,3,i+1)\r\n",
        "    plt.imshow(x_test[i].reshape(28,28), cmap='gray', interpolation='none')\r\n",
        "    plt.title(\"Predicted {}, Class {}\".format(predict, y_test[i]))\r\n",
        "    \r\n",
        "plt.tight_layout()"
      ],
      "execution_count": 10,
      "outputs": [
        {
          "output_type": "display_data",
          "data": {
            "image/png": "[encoded data removed]",
            "text/plain": [
              "<Figure size 648x648 with 9 Axes>"
            ]
          },
          "metadata": {
            "tags": [],
            "needs_background": "light"
          }
        }
      ]
    },
    {
      "cell_type": "code",
      "metadata": {
        "id": "yti5w8JGtAvO"
      },
      "source": [
        ""
      ],
      "execution_count": 10,
      "outputs": []
    }
  ]
}